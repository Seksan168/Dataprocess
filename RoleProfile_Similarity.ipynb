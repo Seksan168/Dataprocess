{
 "cells": [
  {
   "cell_type": "markdown",
   "metadata": {
    "id": "xSm-vd8lPLEF"
   },
   "source": [
    "# Start"
   ]
  },
  {
   "cell_type": "code",
   "execution_count": 128,
   "metadata": {
    "id": "t8X7gbehorKv"
   },
   "outputs": [],
   "source": [
    "# import library\n",
    "import pandas as pd"
   ]
  },
  {
   "cell_type": "markdown",
   "metadata": {
    "id": "IGN5lQ1dPaJs"
   },
   "source": [
    "# Data Pre-Processing"
   ]
  },
  {
   "cell_type": "markdown",
   "metadata": {
    "id": "16XGYVP8PwC8"
   },
   "source": [
    "## Read original file"
   ]
  },
  {
   "cell_type": "code",
   "execution_count": 129,
   "metadata": {
    "id": "FjsJWID1ozt3"
   },
   "outputs": [],
   "source": [
    "# load data Asean ICT Profile\n",
    "asean_level = pd.read_excel(\"ASEAN ICT Skills Standard.xlsx\", sheet_name=\"Job with Level\")\n",
    "asean_non_level = pd.read_excel(\"ASEAN ICT Skills Standard.xlsx\", sheet_name=\"Job no Level\")\n"
   ]
  },
  {
   "cell_type": "code",
   "execution_count": 130,
   "metadata": {
    "id": "8EDy2Q25pRd3"
   },
   "outputs": [],
   "source": [
    "# load data All\n",
    "job = pd.read_excel(\"ALLmo.xlsx\")"
   ]
  },
  {
   "cell_type": "code",
   "execution_count": 131,
   "metadata": {
    "colab": {
     "base_uri": "https://localhost:8080/",
     "height": 423
    },
    "executionInfo": {
     "elapsed": 699,
     "status": "ok",
     "timestamp": 1721363094355,
     "user": {
      "displayName": "Phutphisit Thungklang",
      "userId": "05441536675408328624"
     },
     "user_tz": -420
    },
    "id": "8vu8bp6JspEN",
    "outputId": "c979525c-d8fc-42b9-805d-cf316085199a"
   },
   "outputs": [
    {
     "data": {
      "text/html": [
       "<div>\n",
       "<style scoped>\n",
       "    .dataframe tbody tr th:only-of-type {\n",
       "        vertical-align: middle;\n",
       "    }\n",
       "\n",
       "    .dataframe tbody tr th {\n",
       "        vertical-align: top;\n",
       "    }\n",
       "\n",
       "    .dataframe thead th {\n",
       "        text-align: right;\n",
       "    }\n",
       "</style>\n",
       "<table border=\"1\" class=\"dataframe\">\n",
       "  <thead>\n",
       "    <tr style=\"text-align: right;\">\n",
       "      <th></th>\n",
       "      <th>id</th>\n",
       "      <th>title</th>\n",
       "      <th>company</th>\n",
       "      <th>description</th>\n",
       "      <th>country</th>\n",
       "    </tr>\n",
       "  </thead>\n",
       "  <tbody>\n",
       "    <tr>\n",
       "      <th>0</th>\n",
       "      <td>1</td>\n",
       "      <td>IT Specialist</td>\n",
       "      <td>Luckxay Investment Sole Co., LTD.</td>\n",
       "      <td>About the job\\nRole Description\\nThis is a ful...</td>\n",
       "      <td>Laos</td>\n",
       "    </tr>\n",
       "    <tr>\n",
       "      <th>1</th>\n",
       "      <td>2</td>\n",
       "      <td>Deputy IT Lead - Development and AI</td>\n",
       "      <td>PST.AG</td>\n",
       "      <td>About the job\\nPST.AG is a premier provider of...</td>\n",
       "      <td>Laos</td>\n",
       "    </tr>\n",
       "    <tr>\n",
       "      <th>2</th>\n",
       "      <td>3</td>\n",
       "      <td>PeopleSoft System Developer</td>\n",
       "      <td>ALI AL ZAYER &amp; PARTNER CO</td>\n",
       "      <td>About the job\\nAli Al Zayer Co. was establishe...</td>\n",
       "      <td>Laos</td>\n",
       "    </tr>\n",
       "    <tr>\n",
       "      <th>3</th>\n",
       "      <td>4</td>\n",
       "      <td>PeopleSoft Campus DBA</td>\n",
       "      <td>ALI AL ZAYER &amp; PARTNER CO</td>\n",
       "      <td>About the job\\nAli Al Zayer Co. was establishe...</td>\n",
       "      <td>Laos</td>\n",
       "    </tr>\n",
       "    <tr>\n",
       "      <th>4</th>\n",
       "      <td>5</td>\n",
       "      <td>Technology Specialist - AI tutor</td>\n",
       "      <td>micro1</td>\n",
       "      <td>About the job\\nJob Title: Technology Specialis...</td>\n",
       "      <td>Laos</td>\n",
       "    </tr>\n",
       "    <tr>\n",
       "      <th>...</th>\n",
       "      <td>...</td>\n",
       "      <td>...</td>\n",
       "      <td>...</td>\n",
       "      <td>...</td>\n",
       "      <td>...</td>\n",
       "    </tr>\n",
       "    <tr>\n",
       "      <th>4439</th>\n",
       "      <td>4440</td>\n",
       "      <td>Conseiller.ère, support technique – Singapore ...</td>\n",
       "      <td>Caisse de dépôt et placement du Québec (CDPQ)</td>\n",
       "      <td>About the job\\nDevenez un actif pour la collec...</td>\n",
       "      <td>Singapore</td>\n",
       "    </tr>\n",
       "    <tr>\n",
       "      <th>4440</th>\n",
       "      <td>4441</td>\n",
       "      <td>Sr Customer Success Engineer/TAM</td>\n",
       "      <td>Dynatrace</td>\n",
       "      <td>About the job\\nYour role at Dynatrace\\n\\nAs a ...</td>\n",
       "      <td>Singapore</td>\n",
       "    </tr>\n",
       "    <tr>\n",
       "      <th>4441</th>\n",
       "      <td>4442</td>\n",
       "      <td>Manager Application Architect</td>\n",
       "      <td>ASM</td>\n",
       "      <td>About the job\\nStep into a career with ASM, wh...</td>\n",
       "      <td>Singapore</td>\n",
       "    </tr>\n",
       "    <tr>\n",
       "      <th>4442</th>\n",
       "      <td>4443</td>\n",
       "      <td>Information Security Manager</td>\n",
       "      <td>BIPO</td>\n",
       "      <td>About the job\\nCompany Overview:\\nBIPO: Shapin...</td>\n",
       "      <td>Singapore</td>\n",
       "    </tr>\n",
       "    <tr>\n",
       "      <th>4443</th>\n",
       "      <td>4444</td>\n",
       "      <td>System Administrator</td>\n",
       "      <td>Focuslight Technologies</td>\n",
       "      <td>About the job\\nSkills and Experience\\n1. Techn...</td>\n",
       "      <td>Singapore</td>\n",
       "    </tr>\n",
       "  </tbody>\n",
       "</table>\n",
       "<p>4444 rows × 5 columns</p>\n",
       "</div>"
      ],
      "text/plain": [
       "        id                                              title  \\\n",
       "0        1                                      IT Specialist   \n",
       "1        2                Deputy IT Lead - Development and AI   \n",
       "2        3                        PeopleSoft System Developer   \n",
       "3        4                              PeopleSoft Campus DBA   \n",
       "4        5                   Technology Specialist - AI tutor   \n",
       "...    ...                                                ...   \n",
       "4439  4440  Conseiller.ère, support technique – Singapore ...   \n",
       "4440  4441                   Sr Customer Success Engineer/TAM   \n",
       "4441  4442                      Manager Application Architect   \n",
       "4442  4443                       Information Security Manager   \n",
       "4443  4444                               System Administrator   \n",
       "\n",
       "                                            company  \\\n",
       "0                 Luckxay Investment Sole Co., LTD.   \n",
       "1                                            PST.AG   \n",
       "2                         ALI AL ZAYER & PARTNER CO   \n",
       "3                         ALI AL ZAYER & PARTNER CO   \n",
       "4                                            micro1   \n",
       "...                                             ...   \n",
       "4439  Caisse de dépôt et placement du Québec (CDPQ)   \n",
       "4440                                      Dynatrace   \n",
       "4441                                            ASM   \n",
       "4442                                           BIPO   \n",
       "4443                        Focuslight Technologies   \n",
       "\n",
       "                                            description    country  \n",
       "0     About the job\\nRole Description\\nThis is a ful...       Laos  \n",
       "1     About the job\\nPST.AG is a premier provider of...       Laos  \n",
       "2     About the job\\nAli Al Zayer Co. was establishe...       Laos  \n",
       "3     About the job\\nAli Al Zayer Co. was establishe...       Laos  \n",
       "4     About the job\\nJob Title: Technology Specialis...       Laos  \n",
       "...                                                 ...        ...  \n",
       "4439  About the job\\nDevenez un actif pour la collec...  Singapore  \n",
       "4440  About the job\\nYour role at Dynatrace\\n\\nAs a ...  Singapore  \n",
       "4441  About the job\\nStep into a career with ASM, wh...  Singapore  \n",
       "4442  About the job\\nCompany Overview:\\nBIPO: Shapin...  Singapore  \n",
       "4443  About the job\\nSkills and Experience\\n1. Techn...  Singapore  \n",
       "\n",
       "[4444 rows x 5 columns]"
      ]
     },
     "execution_count": 131,
     "metadata": {},
     "output_type": "execute_result"
    }
   ],
   "source": [
    "job"
   ]
  },
  {
   "cell_type": "markdown",
   "metadata": {
    "id": "_UgqkScGQPzK"
   },
   "source": [
    "## Combine Column `Information` and `Description`"
   ]
  },
  {
   "cell_type": "code",
   "execution_count": 132,
   "metadata": {
    "id": "Yel0LK71NEaI"
   },
   "outputs": [],
   "source": [
    "job.to_csv('combine_text.csv', index=False, encoding='utf-8-sig')\n",
    "job.to_excel('combine_text.xlsx', index=False)"
   ]
  },
  {
   "cell_type": "markdown",
   "metadata": {
    "id": "-6HxwG9hWM8x"
   },
   "source": [
    "## Word Cloud"
   ]
  },
  {
   "cell_type": "code",
   "execution_count": 133,
   "metadata": {
    "id": "exOFN0FzVIpw"
   },
   "outputs": [],
   "source": [
    "# Load Combine data\n",
    "job_combine = pd.read_csv(\"combine_text.csv\")"
   ]
  },
  {
   "cell_type": "code",
   "execution_count": 134,
   "metadata": {
    "colab": {
     "base_uri": "https://localhost:8080/",
     "height": 788
    },
    "executionInfo": {
     "elapsed": 1131,
     "status": "ok",
     "timestamp": 1721364794938,
     "user": {
      "displayName": "Phutphisit Thungklang",
      "userId": "05441536675408328624"
     },
     "user_tz": -420
    },
    "id": "er7XRbPNVkOI",
    "outputId": "b9c2189b-4f0d-40ca-c43d-1c2e23be4f77"
   },
   "outputs": [
    {
     "data": {
      "text/html": [
       "<div>\n",
       "<style scoped>\n",
       "    .dataframe tbody tr th:only-of-type {\n",
       "        vertical-align: middle;\n",
       "    }\n",
       "\n",
       "    .dataframe tbody tr th {\n",
       "        vertical-align: top;\n",
       "    }\n",
       "\n",
       "    .dataframe thead th {\n",
       "        text-align: right;\n",
       "    }\n",
       "</style>\n",
       "<table border=\"1\" class=\"dataframe\">\n",
       "  <thead>\n",
       "    <tr style=\"text-align: right;\">\n",
       "      <th></th>\n",
       "      <th>id</th>\n",
       "      <th>title</th>\n",
       "      <th>company</th>\n",
       "      <th>description</th>\n",
       "      <th>country</th>\n",
       "    </tr>\n",
       "  </thead>\n",
       "  <tbody>\n",
       "    <tr>\n",
       "      <th>0</th>\n",
       "      <td>1</td>\n",
       "      <td>IT Specialist</td>\n",
       "      <td>Luckxay Investment Sole Co., LTD.</td>\n",
       "      <td>About the job\\nRole Description\\nThis is a ful...</td>\n",
       "      <td>Laos</td>\n",
       "    </tr>\n",
       "    <tr>\n",
       "      <th>1</th>\n",
       "      <td>2</td>\n",
       "      <td>Deputy IT Lead - Development and AI</td>\n",
       "      <td>PST.AG</td>\n",
       "      <td>About the job\\nPST.AG is a premier provider of...</td>\n",
       "      <td>Laos</td>\n",
       "    </tr>\n",
       "    <tr>\n",
       "      <th>2</th>\n",
       "      <td>3</td>\n",
       "      <td>PeopleSoft System Developer</td>\n",
       "      <td>ALI AL ZAYER &amp; PARTNER CO</td>\n",
       "      <td>About the job\\nAli Al Zayer Co. was establishe...</td>\n",
       "      <td>Laos</td>\n",
       "    </tr>\n",
       "    <tr>\n",
       "      <th>3</th>\n",
       "      <td>4</td>\n",
       "      <td>PeopleSoft Campus DBA</td>\n",
       "      <td>ALI AL ZAYER &amp; PARTNER CO</td>\n",
       "      <td>About the job\\nAli Al Zayer Co. was establishe...</td>\n",
       "      <td>Laos</td>\n",
       "    </tr>\n",
       "    <tr>\n",
       "      <th>4</th>\n",
       "      <td>5</td>\n",
       "      <td>Technology Specialist - AI tutor</td>\n",
       "      <td>micro1</td>\n",
       "      <td>About the job\\nJob Title: Technology Specialis...</td>\n",
       "      <td>Laos</td>\n",
       "    </tr>\n",
       "    <tr>\n",
       "      <th>...</th>\n",
       "      <td>...</td>\n",
       "      <td>...</td>\n",
       "      <td>...</td>\n",
       "      <td>...</td>\n",
       "      <td>...</td>\n",
       "    </tr>\n",
       "    <tr>\n",
       "      <th>4439</th>\n",
       "      <td>4440</td>\n",
       "      <td>Conseiller.ère, support technique – Singapore ...</td>\n",
       "      <td>Caisse de dépôt et placement du Québec (CDPQ)</td>\n",
       "      <td>About the job\\nDevenez un actif pour la collec...</td>\n",
       "      <td>Singapore</td>\n",
       "    </tr>\n",
       "    <tr>\n",
       "      <th>4440</th>\n",
       "      <td>4441</td>\n",
       "      <td>Sr Customer Success Engineer/TAM</td>\n",
       "      <td>Dynatrace</td>\n",
       "      <td>About the job\\nYour role at Dynatrace\\n\\nAs a ...</td>\n",
       "      <td>Singapore</td>\n",
       "    </tr>\n",
       "    <tr>\n",
       "      <th>4441</th>\n",
       "      <td>4442</td>\n",
       "      <td>Manager Application Architect</td>\n",
       "      <td>ASM</td>\n",
       "      <td>About the job\\nStep into a career with ASM, wh...</td>\n",
       "      <td>Singapore</td>\n",
       "    </tr>\n",
       "    <tr>\n",
       "      <th>4442</th>\n",
       "      <td>4443</td>\n",
       "      <td>Information Security Manager</td>\n",
       "      <td>BIPO</td>\n",
       "      <td>About the job\\nCompany Overview:\\nBIPO: Shapin...</td>\n",
       "      <td>Singapore</td>\n",
       "    </tr>\n",
       "    <tr>\n",
       "      <th>4443</th>\n",
       "      <td>4444</td>\n",
       "      <td>System Administrator</td>\n",
       "      <td>Focuslight Technologies</td>\n",
       "      <td>About the job\\nSkills and Experience\\n1. Techn...</td>\n",
       "      <td>Singapore</td>\n",
       "    </tr>\n",
       "  </tbody>\n",
       "</table>\n",
       "<p>4444 rows × 5 columns</p>\n",
       "</div>"
      ],
      "text/plain": [
       "        id                                              title  \\\n",
       "0        1                                      IT Specialist   \n",
       "1        2                Deputy IT Lead - Development and AI   \n",
       "2        3                        PeopleSoft System Developer   \n",
       "3        4                              PeopleSoft Campus DBA   \n",
       "4        5                   Technology Specialist - AI tutor   \n",
       "...    ...                                                ...   \n",
       "4439  4440  Conseiller.ère, support technique – Singapore ...   \n",
       "4440  4441                   Sr Customer Success Engineer/TAM   \n",
       "4441  4442                      Manager Application Architect   \n",
       "4442  4443                       Information Security Manager   \n",
       "4443  4444                               System Administrator   \n",
       "\n",
       "                                            company  \\\n",
       "0                 Luckxay Investment Sole Co., LTD.   \n",
       "1                                            PST.AG   \n",
       "2                         ALI AL ZAYER & PARTNER CO   \n",
       "3                         ALI AL ZAYER & PARTNER CO   \n",
       "4                                            micro1   \n",
       "...                                             ...   \n",
       "4439  Caisse de dépôt et placement du Québec (CDPQ)   \n",
       "4440                                      Dynatrace   \n",
       "4441                                            ASM   \n",
       "4442                                           BIPO   \n",
       "4443                        Focuslight Technologies   \n",
       "\n",
       "                                            description    country  \n",
       "0     About the job\\nRole Description\\nThis is a ful...       Laos  \n",
       "1     About the job\\nPST.AG is a premier provider of...       Laos  \n",
       "2     About the job\\nAli Al Zayer Co. was establishe...       Laos  \n",
       "3     About the job\\nAli Al Zayer Co. was establishe...       Laos  \n",
       "4     About the job\\nJob Title: Technology Specialis...       Laos  \n",
       "...                                                 ...        ...  \n",
       "4439  About the job\\nDevenez un actif pour la collec...  Singapore  \n",
       "4440  About the job\\nYour role at Dynatrace\\n\\nAs a ...  Singapore  \n",
       "4441  About the job\\nStep into a career with ASM, wh...  Singapore  \n",
       "4442  About the job\\nCompany Overview:\\nBIPO: Shapin...  Singapore  \n",
       "4443  About the job\\nSkills and Experience\\n1. Techn...  Singapore  \n",
       "\n",
       "[4444 rows x 5 columns]"
      ]
     },
     "execution_count": 134,
     "metadata": {},
     "output_type": "execute_result"
    }
   ],
   "source": [
    "job_combine"
   ]
  },
  {
   "cell_type": "markdown",
   "metadata": {
    "id": "NCU2V5YKQrkN"
   },
   "source": [
    "## Remove stop word"
   ]
  },
  {
   "cell_type": "code",
   "execution_count": 135,
   "metadata": {
    "colab": {
     "base_uri": "https://localhost:8080/"
    },
    "executionInfo": {
     "elapsed": 3009,
     "status": "ok",
     "timestamp": 1721364662498,
     "user": {
      "displayName": "Phutphisit Thungklang",
      "userId": "05441536675408328624"
     },
     "user_tz": -420
    },
    "id": "NEa3ib0-VCt5",
    "outputId": "428b48e3-5148-43b4-b3b6-102f8366db8c"
   },
   "outputs": [
    {
     "name": "stderr",
     "output_type": "stream",
     "text": [
      "[nltk_data] Downloading package stopwords to /Users/guide/nltk_data...\n",
      "[nltk_data]   Package stopwords is already up-to-date!\n"
     ]
    },
    {
     "data": {
      "text/plain": [
       "True"
      ]
     },
     "execution_count": 135,
     "metadata": {},
     "output_type": "execute_result"
    }
   ],
   "source": [
    "import nltk\n",
    "import re\n",
    "from nltk.corpus import stopwords\n",
    "\n",
    "nltk.download('stopwords')"
   ]
  },
  {
   "cell_type": "code",
   "execution_count": 136,
   "metadata": {
    "id": "BH26gtAyRigx"
   },
   "outputs": [],
   "source": [
    "def clean_text(text):\n",
    "    if text == 'text not found':\n",
    "      return text\n",
    "\n",
    "    text = re.sub(r'[^a-zA-Z\\s]', '', text)\n",
    "\n",
    "    text = text.lower()\n",
    "\n",
    "    stop_words = set(stopwords.words('english'))\n",
    "    words = text.split()\n",
    "    cleaned_words = [word for word in words if word not in stop_words]\n",
    "\n",
    "    return ' '.join(cleaned_words)"
   ]
  },
  {
   "cell_type": "code",
   "execution_count": 137,
   "metadata": {},
   "outputs": [
    {
     "name": "stdout",
     "output_type": "stream",
     "text": [
      "Index(['id', 'title', 'company', 'description', 'country'], dtype='object')\n"
     ]
    },
    {
     "data": {
      "text/html": [
       "<div>\n",
       "<style scoped>\n",
       "    .dataframe tbody tr th:only-of-type {\n",
       "        vertical-align: middle;\n",
       "    }\n",
       "\n",
       "    .dataframe tbody tr th {\n",
       "        vertical-align: top;\n",
       "    }\n",
       "\n",
       "    .dataframe thead th {\n",
       "        text-align: right;\n",
       "    }\n",
       "</style>\n",
       "<table border=\"1\" class=\"dataframe\">\n",
       "  <thead>\n",
       "    <tr style=\"text-align: right;\">\n",
       "      <th></th>\n",
       "      <th>id</th>\n",
       "      <th>title</th>\n",
       "      <th>company</th>\n",
       "      <th>description</th>\n",
       "      <th>country</th>\n",
       "    </tr>\n",
       "  </thead>\n",
       "  <tbody>\n",
       "    <tr>\n",
       "      <th>0</th>\n",
       "      <td>1</td>\n",
       "      <td>IT Specialist</td>\n",
       "      <td>Luckxay Investment Sole Co., LTD.</td>\n",
       "      <td>About the job\\nRole Description\\nThis is a ful...</td>\n",
       "      <td>Laos</td>\n",
       "    </tr>\n",
       "    <tr>\n",
       "      <th>1</th>\n",
       "      <td>2</td>\n",
       "      <td>Deputy IT Lead - Development and AI</td>\n",
       "      <td>PST.AG</td>\n",
       "      <td>About the job\\nPST.AG is a premier provider of...</td>\n",
       "      <td>Laos</td>\n",
       "    </tr>\n",
       "    <tr>\n",
       "      <th>2</th>\n",
       "      <td>3</td>\n",
       "      <td>PeopleSoft System Developer</td>\n",
       "      <td>ALI AL ZAYER &amp; PARTNER CO</td>\n",
       "      <td>About the job\\nAli Al Zayer Co. was establishe...</td>\n",
       "      <td>Laos</td>\n",
       "    </tr>\n",
       "    <tr>\n",
       "      <th>3</th>\n",
       "      <td>4</td>\n",
       "      <td>PeopleSoft Campus DBA</td>\n",
       "      <td>ALI AL ZAYER &amp; PARTNER CO</td>\n",
       "      <td>About the job\\nAli Al Zayer Co. was establishe...</td>\n",
       "      <td>Laos</td>\n",
       "    </tr>\n",
       "    <tr>\n",
       "      <th>4</th>\n",
       "      <td>5</td>\n",
       "      <td>Technology Specialist - AI tutor</td>\n",
       "      <td>micro1</td>\n",
       "      <td>About the job\\nJob Title: Technology Specialis...</td>\n",
       "      <td>Laos</td>\n",
       "    </tr>\n",
       "    <tr>\n",
       "      <th>...</th>\n",
       "      <td>...</td>\n",
       "      <td>...</td>\n",
       "      <td>...</td>\n",
       "      <td>...</td>\n",
       "      <td>...</td>\n",
       "    </tr>\n",
       "    <tr>\n",
       "      <th>4439</th>\n",
       "      <td>4440</td>\n",
       "      <td>Conseiller.ère, support technique – Singapore ...</td>\n",
       "      <td>Caisse de dépôt et placement du Québec (CDPQ)</td>\n",
       "      <td>About the job\\nDevenez un actif pour la collec...</td>\n",
       "      <td>Singapore</td>\n",
       "    </tr>\n",
       "    <tr>\n",
       "      <th>4440</th>\n",
       "      <td>4441</td>\n",
       "      <td>Sr Customer Success Engineer/TAM</td>\n",
       "      <td>Dynatrace</td>\n",
       "      <td>About the job\\nYour role at Dynatrace\\n\\nAs a ...</td>\n",
       "      <td>Singapore</td>\n",
       "    </tr>\n",
       "    <tr>\n",
       "      <th>4441</th>\n",
       "      <td>4442</td>\n",
       "      <td>Manager Application Architect</td>\n",
       "      <td>ASM</td>\n",
       "      <td>About the job\\nStep into a career with ASM, wh...</td>\n",
       "      <td>Singapore</td>\n",
       "    </tr>\n",
       "    <tr>\n",
       "      <th>4442</th>\n",
       "      <td>4443</td>\n",
       "      <td>Information Security Manager</td>\n",
       "      <td>BIPO</td>\n",
       "      <td>About the job\\nCompany Overview:\\nBIPO: Shapin...</td>\n",
       "      <td>Singapore</td>\n",
       "    </tr>\n",
       "    <tr>\n",
       "      <th>4443</th>\n",
       "      <td>4444</td>\n",
       "      <td>System Administrator</td>\n",
       "      <td>Focuslight Technologies</td>\n",
       "      <td>About the job\\nSkills and Experience\\n1. Techn...</td>\n",
       "      <td>Singapore</td>\n",
       "    </tr>\n",
       "  </tbody>\n",
       "</table>\n",
       "<p>4444 rows × 5 columns</p>\n",
       "</div>"
      ],
      "text/plain": [
       "        id                                              title  \\\n",
       "0        1                                      IT Specialist   \n",
       "1        2                Deputy IT Lead - Development and AI   \n",
       "2        3                        PeopleSoft System Developer   \n",
       "3        4                              PeopleSoft Campus DBA   \n",
       "4        5                   Technology Specialist - AI tutor   \n",
       "...    ...                                                ...   \n",
       "4439  4440  Conseiller.ère, support technique – Singapore ...   \n",
       "4440  4441                   Sr Customer Success Engineer/TAM   \n",
       "4441  4442                      Manager Application Architect   \n",
       "4442  4443                       Information Security Manager   \n",
       "4443  4444                               System Administrator   \n",
       "\n",
       "                                            company  \\\n",
       "0                 Luckxay Investment Sole Co., LTD.   \n",
       "1                                            PST.AG   \n",
       "2                         ALI AL ZAYER & PARTNER CO   \n",
       "3                         ALI AL ZAYER & PARTNER CO   \n",
       "4                                            micro1   \n",
       "...                                             ...   \n",
       "4439  Caisse de dépôt et placement du Québec (CDPQ)   \n",
       "4440                                      Dynatrace   \n",
       "4441                                            ASM   \n",
       "4442                                           BIPO   \n",
       "4443                        Focuslight Technologies   \n",
       "\n",
       "                                            description    country  \n",
       "0     About the job\\nRole Description\\nThis is a ful...       Laos  \n",
       "1     About the job\\nPST.AG is a premier provider of...       Laos  \n",
       "2     About the job\\nAli Al Zayer Co. was establishe...       Laos  \n",
       "3     About the job\\nAli Al Zayer Co. was establishe...       Laos  \n",
       "4     About the job\\nJob Title: Technology Specialis...       Laos  \n",
       "...                                                 ...        ...  \n",
       "4439  About the job\\nDevenez un actif pour la collec...  Singapore  \n",
       "4440  About the job\\nYour role at Dynatrace\\n\\nAs a ...  Singapore  \n",
       "4441  About the job\\nStep into a career with ASM, wh...  Singapore  \n",
       "4442  About the job\\nCompany Overview:\\nBIPO: Shapin...  Singapore  \n",
       "4443  About the job\\nSkills and Experience\\n1. Techn...  Singapore  \n",
       "\n",
       "[4444 rows x 5 columns]"
      ]
     },
     "execution_count": 137,
     "metadata": {},
     "output_type": "execute_result"
    }
   ],
   "source": [
    "print(job_combine.columns)\n",
    "job_combine"
   ]
  },
  {
   "cell_type": "code",
   "execution_count": 138,
   "metadata": {},
   "outputs": [],
   "source": [
    "job_combine['description'] = job_combine['description'].apply(clean_text)\n"
   ]
  },
  {
   "cell_type": "code",
   "execution_count": 139,
   "metadata": {},
   "outputs": [
    {
     "data": {
      "text/html": [
       "<div>\n",
       "<style scoped>\n",
       "    .dataframe tbody tr th:only-of-type {\n",
       "        vertical-align: middle;\n",
       "    }\n",
       "\n",
       "    .dataframe tbody tr th {\n",
       "        vertical-align: top;\n",
       "    }\n",
       "\n",
       "    .dataframe thead th {\n",
       "        text-align: right;\n",
       "    }\n",
       "</style>\n",
       "<table border=\"1\" class=\"dataframe\">\n",
       "  <thead>\n",
       "    <tr style=\"text-align: right;\">\n",
       "      <th></th>\n",
       "      <th>id</th>\n",
       "      <th>title</th>\n",
       "      <th>company</th>\n",
       "      <th>description</th>\n",
       "      <th>country</th>\n",
       "    </tr>\n",
       "  </thead>\n",
       "  <tbody>\n",
       "    <tr>\n",
       "      <th>0</th>\n",
       "      <td>1</td>\n",
       "      <td>IT Specialist</td>\n",
       "      <td>Luckxay Investment Sole Co., LTD.</td>\n",
       "      <td>job role description fulltime onsite role spec...</td>\n",
       "      <td>Laos</td>\n",
       "    </tr>\n",
       "    <tr>\n",
       "      <th>1</th>\n",
       "      <td>2</td>\n",
       "      <td>Deputy IT Lead - Development and AI</td>\n",
       "      <td>PST.AG</td>\n",
       "      <td>job pstag premier provider bespoke data softwa...</td>\n",
       "      <td>Laos</td>\n",
       "    </tr>\n",
       "    <tr>\n",
       "      <th>2</th>\n",
       "      <td>3</td>\n",
       "      <td>PeopleSoft System Developer</td>\n",
       "      <td>ALI AL ZAYER &amp; PARTNER CO</td>\n",
       "      <td>job ali al zayer co established year focus wor...</td>\n",
       "      <td>Laos</td>\n",
       "    </tr>\n",
       "    <tr>\n",
       "      <th>3</th>\n",
       "      <td>4</td>\n",
       "      <td>PeopleSoft Campus DBA</td>\n",
       "      <td>ALI AL ZAYER &amp; PARTNER CO</td>\n",
       "      <td>job ali al zayer co established year focus wor...</td>\n",
       "      <td>Laos</td>\n",
       "    </tr>\n",
       "    <tr>\n",
       "      <th>4</th>\n",
       "      <td>5</td>\n",
       "      <td>Technology Specialist - AI tutor</td>\n",
       "      <td>micro1</td>\n",
       "      <td>job job title technology specialist ai tutor j...</td>\n",
       "      <td>Laos</td>\n",
       "    </tr>\n",
       "    <tr>\n",
       "      <th>...</th>\n",
       "      <td>...</td>\n",
       "      <td>...</td>\n",
       "      <td>...</td>\n",
       "      <td>...</td>\n",
       "      <td>...</td>\n",
       "    </tr>\n",
       "    <tr>\n",
       "      <th>4439</th>\n",
       "      <td>4440</td>\n",
       "      <td>Conseiller.ère, support technique – Singapore ...</td>\n",
       "      <td>Caisse de dépôt et placement du Québec (CDPQ)</td>\n",
       "      <td>job devenez un actif pour la collectivit faite...</td>\n",
       "      <td>Singapore</td>\n",
       "    </tr>\n",
       "    <tr>\n",
       "      <th>4440</th>\n",
       "      <td>4441</td>\n",
       "      <td>Sr Customer Success Engineer/TAM</td>\n",
       "      <td>Dynatrace</td>\n",
       "      <td>job role dynatrace senior customer success eng...</td>\n",
       "      <td>Singapore</td>\n",
       "    </tr>\n",
       "    <tr>\n",
       "      <th>4441</th>\n",
       "      <td>4442</td>\n",
       "      <td>Manager Application Architect</td>\n",
       "      <td>ASM</td>\n",
       "      <td>job step career asm cutting edge technology me...</td>\n",
       "      <td>Singapore</td>\n",
       "    </tr>\n",
       "    <tr>\n",
       "      <th>4442</th>\n",
       "      <td>4443</td>\n",
       "      <td>Information Security Manager</td>\n",
       "      <td>BIPO</td>\n",
       "      <td>job company overview bipo shaping future hr in...</td>\n",
       "      <td>Singapore</td>\n",
       "    </tr>\n",
       "    <tr>\n",
       "      <th>4443</th>\n",
       "      <td>4444</td>\n",
       "      <td>System Administrator</td>\n",
       "      <td>Focuslight Technologies</td>\n",
       "      <td>job skills experience technical skills knowled...</td>\n",
       "      <td>Singapore</td>\n",
       "    </tr>\n",
       "  </tbody>\n",
       "</table>\n",
       "<p>4444 rows × 5 columns</p>\n",
       "</div>"
      ],
      "text/plain": [
       "        id                                              title  \\\n",
       "0        1                                      IT Specialist   \n",
       "1        2                Deputy IT Lead - Development and AI   \n",
       "2        3                        PeopleSoft System Developer   \n",
       "3        4                              PeopleSoft Campus DBA   \n",
       "4        5                   Technology Specialist - AI tutor   \n",
       "...    ...                                                ...   \n",
       "4439  4440  Conseiller.ère, support technique – Singapore ...   \n",
       "4440  4441                   Sr Customer Success Engineer/TAM   \n",
       "4441  4442                      Manager Application Architect   \n",
       "4442  4443                       Information Security Manager   \n",
       "4443  4444                               System Administrator   \n",
       "\n",
       "                                            company  \\\n",
       "0                 Luckxay Investment Sole Co., LTD.   \n",
       "1                                            PST.AG   \n",
       "2                         ALI AL ZAYER & PARTNER CO   \n",
       "3                         ALI AL ZAYER & PARTNER CO   \n",
       "4                                            micro1   \n",
       "...                                             ...   \n",
       "4439  Caisse de dépôt et placement du Québec (CDPQ)   \n",
       "4440                                      Dynatrace   \n",
       "4441                                            ASM   \n",
       "4442                                           BIPO   \n",
       "4443                        Focuslight Technologies   \n",
       "\n",
       "                                            description    country  \n",
       "0     job role description fulltime onsite role spec...       Laos  \n",
       "1     job pstag premier provider bespoke data softwa...       Laos  \n",
       "2     job ali al zayer co established year focus wor...       Laos  \n",
       "3     job ali al zayer co established year focus wor...       Laos  \n",
       "4     job job title technology specialist ai tutor j...       Laos  \n",
       "...                                                 ...        ...  \n",
       "4439  job devenez un actif pour la collectivit faite...  Singapore  \n",
       "4440  job role dynatrace senior customer success eng...  Singapore  \n",
       "4441  job step career asm cutting edge technology me...  Singapore  \n",
       "4442  job company overview bipo shaping future hr in...  Singapore  \n",
       "4443  job skills experience technical skills knowled...  Singapore  \n",
       "\n",
       "[4444 rows x 5 columns]"
      ]
     },
     "execution_count": 139,
     "metadata": {},
     "output_type": "execute_result"
    }
   ],
   "source": [
    "job_combine\n"
   ]
  },
  {
   "cell_type": "code",
   "execution_count": 140,
   "metadata": {
    "colab": {
     "base_uri": "https://localhost:8080/",
     "height": 1000
    },
    "executionInfo": {
     "elapsed": 444,
     "status": "ok",
     "timestamp": 1721379740486,
     "user": {
      "displayName": "Phutphisit Thungklang",
      "userId": "05441536675408328624"
     },
     "user_tz": -420
    },
    "id": "M9-MZAwhbZe8",
    "outputId": "38349b87-6777-43cf-8321-a08830874979"
   },
   "outputs": [
    {
     "data": {
      "text/html": [
       "<div>\n",
       "<style scoped>\n",
       "    .dataframe tbody tr th:only-of-type {\n",
       "        vertical-align: middle;\n",
       "    }\n",
       "\n",
       "    .dataframe tbody tr th {\n",
       "        vertical-align: top;\n",
       "    }\n",
       "\n",
       "    .dataframe thead th {\n",
       "        text-align: right;\n",
       "    }\n",
       "</style>\n",
       "<table border=\"1\" class=\"dataframe\">\n",
       "  <thead>\n",
       "    <tr style=\"text-align: right;\">\n",
       "      <th></th>\n",
       "      <th>Job Group</th>\n",
       "      <th>Job Detail</th>\n",
       "      <th>Level</th>\n",
       "      <th>Definition</th>\n",
       "    </tr>\n",
       "  </thead>\n",
       "  <tbody>\n",
       "    <tr>\n",
       "      <th>0</th>\n",
       "      <td>Software Development</td>\n",
       "      <td>Business Analysis</td>\n",
       "      <td>3</td>\n",
       "      <td>Has ability to manage one or more team in comm...</td>\n",
       "    </tr>\n",
       "    <tr>\n",
       "      <th>1</th>\n",
       "      <td>Software Development</td>\n",
       "      <td>Business Analysis</td>\n",
       "      <td>2</td>\n",
       "      <td>Has ability to supervise a team in communicati...</td>\n",
       "    </tr>\n",
       "    <tr>\n",
       "      <th>2</th>\n",
       "      <td>Software Development</td>\n",
       "      <td>Business Analysis</td>\n",
       "      <td>1</td>\n",
       "      <td>Under supervision of senior analysts, has abil...</td>\n",
       "    </tr>\n",
       "    <tr>\n",
       "      <th>3</th>\n",
       "      <td>Software Development</td>\n",
       "      <td>System analysis</td>\n",
       "      <td>3</td>\n",
       "      <td>Has ability to manage one or more team in perf...</td>\n",
       "    </tr>\n",
       "    <tr>\n",
       "      <th>4</th>\n",
       "      <td>Software Development</td>\n",
       "      <td>System analysis</td>\n",
       "      <td>2</td>\n",
       "      <td>Has ability to supervise a team in performing ...</td>\n",
       "    </tr>\n",
       "    <tr>\n",
       "      <th>...</th>\n",
       "      <td>...</td>\n",
       "      <td>...</td>\n",
       "      <td>...</td>\n",
       "      <td>...</td>\n",
       "    </tr>\n",
       "    <tr>\n",
       "      <th>136</th>\n",
       "      <td>Internet of Things (IoT)</td>\n",
       "      <td>IoT System Tester</td>\n",
       "      <td>2</td>\n",
       "      <td>Given a set of business requirements, details ...</td>\n",
       "    </tr>\n",
       "    <tr>\n",
       "      <th>137</th>\n",
       "      <td>Internet of Things (IoT)</td>\n",
       "      <td>IoT System Tester</td>\n",
       "      <td>1</td>\n",
       "      <td>Given a set of business requirements, details ...</td>\n",
       "    </tr>\n",
       "    <tr>\n",
       "      <th>138</th>\n",
       "      <td>Internet of Things (IoT)</td>\n",
       "      <td>IoT System Engineer</td>\n",
       "      <td>3</td>\n",
       "      <td>Given a set of business requirements, details ...</td>\n",
       "    </tr>\n",
       "    <tr>\n",
       "      <th>139</th>\n",
       "      <td>Internet of Things (IoT)</td>\n",
       "      <td>IoT System Engineer</td>\n",
       "      <td>2</td>\n",
       "      <td>Given a set of business requirements, details ...</td>\n",
       "    </tr>\n",
       "    <tr>\n",
       "      <th>140</th>\n",
       "      <td>Internet of Things (IoT)</td>\n",
       "      <td>IoT System Engineer</td>\n",
       "      <td>1</td>\n",
       "      <td>Given a set of business requirements, details ...</td>\n",
       "    </tr>\n",
       "  </tbody>\n",
       "</table>\n",
       "<p>141 rows × 4 columns</p>\n",
       "</div>"
      ],
      "text/plain": [
       "                    Job Group           Job Detail  Level  \\\n",
       "0        Software Development    Business Analysis      3   \n",
       "1        Software Development    Business Analysis      2   \n",
       "2        Software Development    Business Analysis      1   \n",
       "3        Software Development      System analysis      3   \n",
       "4        Software Development      System analysis      2   \n",
       "..                        ...                  ...    ...   \n",
       "136  Internet of Things (IoT)    IoT System Tester      2   \n",
       "137  Internet of Things (IoT)    IoT System Tester      1   \n",
       "138  Internet of Things (IoT)  IoT System Engineer      3   \n",
       "139  Internet of Things (IoT)  IoT System Engineer      2   \n",
       "140  Internet of Things (IoT)  IoT System Engineer      1   \n",
       "\n",
       "                                            Definition  \n",
       "0    Has ability to manage one or more team in comm...  \n",
       "1    Has ability to supervise a team in communicati...  \n",
       "2    Under supervision of senior analysts, has abil...  \n",
       "3    Has ability to manage one or more team in perf...  \n",
       "4    Has ability to supervise a team in performing ...  \n",
       "..                                                 ...  \n",
       "136  Given a set of business requirements, details ...  \n",
       "137  Given a set of business requirements, details ...  \n",
       "138  Given a set of business requirements, details ...  \n",
       "139  Given a set of business requirements, details ...  \n",
       "140  Given a set of business requirements, details ...  \n",
       "\n",
       "[141 rows x 4 columns]"
      ]
     },
     "execution_count": 140,
     "metadata": {},
     "output_type": "execute_result"
    }
   ],
   "source": [
    "asean_level"
   ]
  },
  {
   "cell_type": "markdown",
   "metadata": {
    "id": "8wg2wjxFoETy"
   },
   "source": [
    "## Cosine Similarity"
   ]
  },
  {
   "cell_type": "code",
   "execution_count": 143,
   "metadata": {},
   "outputs": [
    {
     "name": "stdout",
     "output_type": "stream",
     "text": [
      "Index(['Job Group', 'Job Detail', 'Level', 'Definition'], dtype='object')\n",
      "Index(['id', 'title', 'company', 'description', 'country'], dtype='object')\n"
     ]
    }
   ],
   "source": [
    "print(asean_level.columns)\n",
    "print(job_combine.columns)\n"
   ]
  },
  {
   "cell_type": "code",
   "execution_count": 145,
   "metadata": {
    "id": "OAc_5FgqoHUe"
   },
   "outputs": [
    {
     "ename": "AttributeError",
     "evalue": "'int' object has no attribute 'lower'",
     "output_type": "error",
     "traceback": [
      "\u001b[0;31m---------------------------------------------------------------------------\u001b[0m",
      "\u001b[0;31mAttributeError\u001b[0m                            Traceback (most recent call last)",
      "Cell \u001b[0;32mIn[145], line 28\u001b[0m\n\u001b[1;32m     25\u001b[0m     \u001b[38;5;28;01mreturn\u001b[39;00m normalized_scores\n\u001b[1;32m     27\u001b[0m \u001b[38;5;66;03m# Calculate similarity between 'Level' in asean_level and 'description' in job_combine\u001b[39;00m\n\u001b[0;32m---> 28\u001b[0m similarities \u001b[38;5;241m=\u001b[39m calculate_similarity(asean_level, job_combine)\n\u001b[1;32m     30\u001b[0m \u001b[38;5;66;03m# Display the similarity scores\u001b[39;00m\n\u001b[1;32m     31\u001b[0m \u001b[38;5;28mprint\u001b[39m(similarities)\n",
      "Cell \u001b[0;32mIn[145], line 13\u001b[0m, in \u001b[0;36mcalculate_similarity\u001b[0;34m(standard_jobs_df, new_jobs_df)\u001b[0m\n\u001b[1;32m     11\u001b[0m \u001b[38;5;66;03m# Vectorize the job descriptions\u001b[39;00m\n\u001b[1;32m     12\u001b[0m vectorizer \u001b[38;5;241m=\u001b[39m TfidfVectorizer()\n\u001b[0;32m---> 13\u001b[0m tfidf_matrix \u001b[38;5;241m=\u001b[39m vectorizer\u001b[38;5;241m.\u001b[39mfit_transform(all_jobs)\n\u001b[1;32m     15\u001b[0m \u001b[38;5;66;03m# Separate the datasets by their counts\u001b[39;00m\n\u001b[1;32m     16\u001b[0m standard_jobs_count \u001b[38;5;241m=\u001b[39m \u001b[38;5;28mlen\u001b[39m(standard_jobs_df)\n",
      "File \u001b[0;32m/opt/anaconda3/lib/python3.12/site-packages/sklearn/feature_extraction/text.py:2091\u001b[0m, in \u001b[0;36mTfidfVectorizer.fit_transform\u001b[0;34m(self, raw_documents, y)\u001b[0m\n\u001b[1;32m   2084\u001b[0m \u001b[38;5;28mself\u001b[39m\u001b[38;5;241m.\u001b[39m_check_params()\n\u001b[1;32m   2085\u001b[0m \u001b[38;5;28mself\u001b[39m\u001b[38;5;241m.\u001b[39m_tfidf \u001b[38;5;241m=\u001b[39m TfidfTransformer(\n\u001b[1;32m   2086\u001b[0m     norm\u001b[38;5;241m=\u001b[39m\u001b[38;5;28mself\u001b[39m\u001b[38;5;241m.\u001b[39mnorm,\n\u001b[1;32m   2087\u001b[0m     use_idf\u001b[38;5;241m=\u001b[39m\u001b[38;5;28mself\u001b[39m\u001b[38;5;241m.\u001b[39muse_idf,\n\u001b[1;32m   2088\u001b[0m     smooth_idf\u001b[38;5;241m=\u001b[39m\u001b[38;5;28mself\u001b[39m\u001b[38;5;241m.\u001b[39msmooth_idf,\n\u001b[1;32m   2089\u001b[0m     sublinear_tf\u001b[38;5;241m=\u001b[39m\u001b[38;5;28mself\u001b[39m\u001b[38;5;241m.\u001b[39msublinear_tf,\n\u001b[1;32m   2090\u001b[0m )\n\u001b[0;32m-> 2091\u001b[0m X \u001b[38;5;241m=\u001b[39m \u001b[38;5;28msuper\u001b[39m()\u001b[38;5;241m.\u001b[39mfit_transform(raw_documents)\n\u001b[1;32m   2092\u001b[0m \u001b[38;5;28mself\u001b[39m\u001b[38;5;241m.\u001b[39m_tfidf\u001b[38;5;241m.\u001b[39mfit(X)\n\u001b[1;32m   2093\u001b[0m \u001b[38;5;66;03m# X is already a transformed view of raw_documents so\u001b[39;00m\n\u001b[1;32m   2094\u001b[0m \u001b[38;5;66;03m# we set copy to False\u001b[39;00m\n",
      "File \u001b[0;32m/opt/anaconda3/lib/python3.12/site-packages/sklearn/base.py:1473\u001b[0m, in \u001b[0;36m_fit_context.<locals>.decorator.<locals>.wrapper\u001b[0;34m(estimator, *args, **kwargs)\u001b[0m\n\u001b[1;32m   1466\u001b[0m     estimator\u001b[38;5;241m.\u001b[39m_validate_params()\n\u001b[1;32m   1468\u001b[0m \u001b[38;5;28;01mwith\u001b[39;00m config_context(\n\u001b[1;32m   1469\u001b[0m     skip_parameter_validation\u001b[38;5;241m=\u001b[39m(\n\u001b[1;32m   1470\u001b[0m         prefer_skip_nested_validation \u001b[38;5;129;01mor\u001b[39;00m global_skip_validation\n\u001b[1;32m   1471\u001b[0m     )\n\u001b[1;32m   1472\u001b[0m ):\n\u001b[0;32m-> 1473\u001b[0m     \u001b[38;5;28;01mreturn\u001b[39;00m fit_method(estimator, \u001b[38;5;241m*\u001b[39margs, \u001b[38;5;241m*\u001b[39m\u001b[38;5;241m*\u001b[39mkwargs)\n",
      "File \u001b[0;32m/opt/anaconda3/lib/python3.12/site-packages/sklearn/feature_extraction/text.py:1372\u001b[0m, in \u001b[0;36mCountVectorizer.fit_transform\u001b[0;34m(self, raw_documents, y)\u001b[0m\n\u001b[1;32m   1364\u001b[0m             warnings\u001b[38;5;241m.\u001b[39mwarn(\n\u001b[1;32m   1365\u001b[0m                 \u001b[38;5;124m\"\u001b[39m\u001b[38;5;124mUpper case characters found in\u001b[39m\u001b[38;5;124m\"\u001b[39m\n\u001b[1;32m   1366\u001b[0m                 \u001b[38;5;124m\"\u001b[39m\u001b[38;5;124m vocabulary while \u001b[39m\u001b[38;5;124m'\u001b[39m\u001b[38;5;124mlowercase\u001b[39m\u001b[38;5;124m'\u001b[39m\u001b[38;5;124m\"\u001b[39m\n\u001b[1;32m   1367\u001b[0m                 \u001b[38;5;124m\"\u001b[39m\u001b[38;5;124m is True. These entries will not\u001b[39m\u001b[38;5;124m\"\u001b[39m\n\u001b[1;32m   1368\u001b[0m                 \u001b[38;5;124m\"\u001b[39m\u001b[38;5;124m be matched with any documents\u001b[39m\u001b[38;5;124m\"\u001b[39m\n\u001b[1;32m   1369\u001b[0m             )\n\u001b[1;32m   1370\u001b[0m             \u001b[38;5;28;01mbreak\u001b[39;00m\n\u001b[0;32m-> 1372\u001b[0m vocabulary, X \u001b[38;5;241m=\u001b[39m \u001b[38;5;28mself\u001b[39m\u001b[38;5;241m.\u001b[39m_count_vocab(raw_documents, \u001b[38;5;28mself\u001b[39m\u001b[38;5;241m.\u001b[39mfixed_vocabulary_)\n\u001b[1;32m   1374\u001b[0m \u001b[38;5;28;01mif\u001b[39;00m \u001b[38;5;28mself\u001b[39m\u001b[38;5;241m.\u001b[39mbinary:\n\u001b[1;32m   1375\u001b[0m     X\u001b[38;5;241m.\u001b[39mdata\u001b[38;5;241m.\u001b[39mfill(\u001b[38;5;241m1\u001b[39m)\n",
      "File \u001b[0;32m/opt/anaconda3/lib/python3.12/site-packages/sklearn/feature_extraction/text.py:1259\u001b[0m, in \u001b[0;36mCountVectorizer._count_vocab\u001b[0;34m(self, raw_documents, fixed_vocab)\u001b[0m\n\u001b[1;32m   1257\u001b[0m \u001b[38;5;28;01mfor\u001b[39;00m doc \u001b[38;5;129;01min\u001b[39;00m raw_documents:\n\u001b[1;32m   1258\u001b[0m     feature_counter \u001b[38;5;241m=\u001b[39m {}\n\u001b[0;32m-> 1259\u001b[0m     \u001b[38;5;28;01mfor\u001b[39;00m feature \u001b[38;5;129;01min\u001b[39;00m analyze(doc):\n\u001b[1;32m   1260\u001b[0m         \u001b[38;5;28;01mtry\u001b[39;00m:\n\u001b[1;32m   1261\u001b[0m             feature_idx \u001b[38;5;241m=\u001b[39m vocabulary[feature]\n",
      "File \u001b[0;32m/opt/anaconda3/lib/python3.12/site-packages/sklearn/feature_extraction/text.py:108\u001b[0m, in \u001b[0;36m_analyze\u001b[0;34m(doc, analyzer, tokenizer, ngrams, preprocessor, decoder, stop_words)\u001b[0m\n\u001b[1;32m    106\u001b[0m \u001b[38;5;28;01melse\u001b[39;00m:\n\u001b[1;32m    107\u001b[0m     \u001b[38;5;28;01mif\u001b[39;00m preprocessor \u001b[38;5;129;01mis\u001b[39;00m \u001b[38;5;129;01mnot\u001b[39;00m \u001b[38;5;28;01mNone\u001b[39;00m:\n\u001b[0;32m--> 108\u001b[0m         doc \u001b[38;5;241m=\u001b[39m preprocessor(doc)\n\u001b[1;32m    109\u001b[0m     \u001b[38;5;28;01mif\u001b[39;00m tokenizer \u001b[38;5;129;01mis\u001b[39;00m \u001b[38;5;129;01mnot\u001b[39;00m \u001b[38;5;28;01mNone\u001b[39;00m:\n\u001b[1;32m    110\u001b[0m         doc \u001b[38;5;241m=\u001b[39m tokenizer(doc)\n",
      "File \u001b[0;32m/opt/anaconda3/lib/python3.12/site-packages/sklearn/feature_extraction/text.py:66\u001b[0m, in \u001b[0;36m_preprocess\u001b[0;34m(doc, accent_function, lower)\u001b[0m\n\u001b[1;32m     47\u001b[0m \u001b[38;5;250m\u001b[39m\u001b[38;5;124;03m\"\"\"Chain together an optional series of text preprocessing steps to\u001b[39;00m\n\u001b[1;32m     48\u001b[0m \u001b[38;5;124;03mapply to a document.\u001b[39;00m\n\u001b[1;32m     49\u001b[0m \n\u001b[0;32m   (...)\u001b[0m\n\u001b[1;32m     63\u001b[0m \u001b[38;5;124;03m    preprocessed string\u001b[39;00m\n\u001b[1;32m     64\u001b[0m \u001b[38;5;124;03m\"\"\"\u001b[39;00m\n\u001b[1;32m     65\u001b[0m \u001b[38;5;28;01mif\u001b[39;00m lower:\n\u001b[0;32m---> 66\u001b[0m     doc \u001b[38;5;241m=\u001b[39m doc\u001b[38;5;241m.\u001b[39mlower()\n\u001b[1;32m     67\u001b[0m \u001b[38;5;28;01mif\u001b[39;00m accent_function \u001b[38;5;129;01mis\u001b[39;00m \u001b[38;5;129;01mnot\u001b[39;00m \u001b[38;5;28;01mNone\u001b[39;00m:\n\u001b[1;32m     68\u001b[0m     doc \u001b[38;5;241m=\u001b[39m accent_function(doc)\n",
      "\u001b[0;31mAttributeError\u001b[0m: 'int' object has no attribute 'lower'"
     ]
    }
   ],
   "source": [
    "from sklearn.feature_extraction.text import TfidfVectorizer\n",
    "from sklearn.metrics.pairwise import cosine_similarity\n",
    "import numpy as np\n",
    "\n",
    "\n",
    "# Define the calculate_similarity function\n",
    "def calculate_similarity(standard_jobs_df, new_jobs_df):\n",
    "    # Combine job descriptions from both datasets\n",
    "    all_jobs = standard_jobs_df['Level'].tolist() + new_jobs_df['description'].tolist()\n",
    "\n",
    "    # Vectorize the job descriptions\n",
    "    vectorizer = TfidfVectorizer()\n",
    "    tfidf_matrix = vectorizer.fit_transform(all_jobs)\n",
    "\n",
    "    # Separate the datasets by their counts\n",
    "    standard_jobs_count = len(standard_jobs_df)\n",
    "    new_jobs_count = len(new_jobs_df)\n",
    "\n",
    "    # Calculate cosine similarity\n",
    "    similarity_scores = cosine_similarity(tfidf_matrix[standard_jobs_count:], tfidf_matrix[:standard_jobs_count])\n",
    "\n",
    "    # Normalize the scores to percentage\n",
    "    normalized_scores = similarity_scores / np.sum(similarity_scores, axis=1)[:, np.newaxis] * 100\n",
    "\n",
    "    return normalized_scores\n",
    "\n",
    "# Calculate similarity between 'Level' in asean_level and 'description' in job_combine\n",
    "similarities = calculate_similarity(asean_level, job_combine)\n",
    "\n",
    "# Display the similarity scores\n",
    "print(similarities)"
   ]
  },
  {
   "cell_type": "code",
   "execution_count": null,
   "metadata": {
    "colab": {
     "base_uri": "https://localhost:8080/"
    },
    "executionInfo": {
     "elapsed": 1530,
     "status": "ok",
     "timestamp": 1721372858923,
     "user": {
      "displayName": "Phutphisit Thungklang",
      "userId": "05441536675408328624"
     },
     "user_tz": -420
    },
    "id": "GRUW4GFBqqMu",
    "outputId": "c746517a-9673-4894-c027-76d3a6db5938"
   },
   "outputs": [
    {
     "ename": "KeyError",
     "evalue": "'asean_level'",
     "output_type": "error",
     "traceback": [
      "\u001b[0;31m---------------------------------------------------------------------------\u001b[0m",
      "\u001b[0;31mKeyError\u001b[0m                                  Traceback (most recent call last)",
      "File \u001b[0;32m/opt/anaconda3/lib/python3.12/site-packages/pandas/core/indexes/base.py:3805\u001b[0m, in \u001b[0;36mIndex.get_loc\u001b[0;34m(self, key)\u001b[0m\n\u001b[1;32m   3804\u001b[0m \u001b[38;5;28;01mtry\u001b[39;00m:\n\u001b[0;32m-> 3805\u001b[0m     \u001b[38;5;28;01mreturn\u001b[39;00m \u001b[38;5;28mself\u001b[39m\u001b[38;5;241m.\u001b[39m_engine\u001b[38;5;241m.\u001b[39mget_loc(casted_key)\n\u001b[1;32m   3806\u001b[0m \u001b[38;5;28;01mexcept\u001b[39;00m \u001b[38;5;167;01mKeyError\u001b[39;00m \u001b[38;5;28;01mas\u001b[39;00m err:\n",
      "File \u001b[0;32mindex.pyx:167\u001b[0m, in \u001b[0;36mpandas._libs.index.IndexEngine.get_loc\u001b[0;34m()\u001b[0m\n",
      "File \u001b[0;32mindex.pyx:196\u001b[0m, in \u001b[0;36mpandas._libs.index.IndexEngine.get_loc\u001b[0;34m()\u001b[0m\n",
      "File \u001b[0;32mpandas/_libs/hashtable_class_helper.pxi:7081\u001b[0m, in \u001b[0;36mpandas._libs.hashtable.PyObjectHashTable.get_item\u001b[0;34m()\u001b[0m\n",
      "File \u001b[0;32mpandas/_libs/hashtable_class_helper.pxi:7089\u001b[0m, in \u001b[0;36mpandas._libs.hashtable.PyObjectHashTable.get_item\u001b[0;34m()\u001b[0m\n",
      "\u001b[0;31mKeyError\u001b[0m: 'asean_level'",
      "\nThe above exception was the direct cause of the following exception:\n",
      "\u001b[0;31mKeyError\u001b[0m                                  Traceback (most recent call last)",
      "Cell \u001b[0;32mIn[117], line 1\u001b[0m\n\u001b[0;32m----> 1\u001b[0m similarities \u001b[38;5;241m=\u001b[39m calculate_similarity(asean_level, asean_role)\n",
      "Cell \u001b[0;32mIn[116], line 6\u001b[0m, in \u001b[0;36mcalculate_similarity\u001b[0;34m(standard_jobs_df, new_jobs_df)\u001b[0m\n\u001b[1;32m      5\u001b[0m \u001b[38;5;28;01mdef\u001b[39;00m \u001b[38;5;21mcalculate_similarity\u001b[39m(standard_jobs_df, new_jobs_df):\n\u001b[0;32m----> 6\u001b[0m     all_jobs \u001b[38;5;241m=\u001b[39m standard_jobs_df[\u001b[38;5;124m'\u001b[39m\u001b[38;5;124masean_level\u001b[39m\u001b[38;5;124m'\u001b[39m]\u001b[38;5;241m.\u001b[39mtolist() \u001b[38;5;241m+\u001b[39m new_jobs_df[\u001b[38;5;124m'\u001b[39m\u001b[38;5;124masean_role\u001b[39m\u001b[38;5;124m'\u001b[39m]\u001b[38;5;241m.\u001b[39mtolist()\n\u001b[1;32m      8\u001b[0m     vectorizer \u001b[38;5;241m=\u001b[39m TfidfVectorizer()\n\u001b[1;32m      9\u001b[0m     tfidf_matrix \u001b[38;5;241m=\u001b[39m vectorizer\u001b[38;5;241m.\u001b[39mfit_transform(all_jobs)\n",
      "File \u001b[0;32m/opt/anaconda3/lib/python3.12/site-packages/pandas/core/frame.py:4102\u001b[0m, in \u001b[0;36mDataFrame.__getitem__\u001b[0;34m(self, key)\u001b[0m\n\u001b[1;32m   4100\u001b[0m \u001b[38;5;28;01mif\u001b[39;00m \u001b[38;5;28mself\u001b[39m\u001b[38;5;241m.\u001b[39mcolumns\u001b[38;5;241m.\u001b[39mnlevels \u001b[38;5;241m>\u001b[39m \u001b[38;5;241m1\u001b[39m:\n\u001b[1;32m   4101\u001b[0m     \u001b[38;5;28;01mreturn\u001b[39;00m \u001b[38;5;28mself\u001b[39m\u001b[38;5;241m.\u001b[39m_getitem_multilevel(key)\n\u001b[0;32m-> 4102\u001b[0m indexer \u001b[38;5;241m=\u001b[39m \u001b[38;5;28mself\u001b[39m\u001b[38;5;241m.\u001b[39mcolumns\u001b[38;5;241m.\u001b[39mget_loc(key)\n\u001b[1;32m   4103\u001b[0m \u001b[38;5;28;01mif\u001b[39;00m is_integer(indexer):\n\u001b[1;32m   4104\u001b[0m     indexer \u001b[38;5;241m=\u001b[39m [indexer]\n",
      "File \u001b[0;32m/opt/anaconda3/lib/python3.12/site-packages/pandas/core/indexes/base.py:3812\u001b[0m, in \u001b[0;36mIndex.get_loc\u001b[0;34m(self, key)\u001b[0m\n\u001b[1;32m   3807\u001b[0m     \u001b[38;5;28;01mif\u001b[39;00m \u001b[38;5;28misinstance\u001b[39m(casted_key, \u001b[38;5;28mslice\u001b[39m) \u001b[38;5;129;01mor\u001b[39;00m (\n\u001b[1;32m   3808\u001b[0m         \u001b[38;5;28misinstance\u001b[39m(casted_key, abc\u001b[38;5;241m.\u001b[39mIterable)\n\u001b[1;32m   3809\u001b[0m         \u001b[38;5;129;01mand\u001b[39;00m \u001b[38;5;28many\u001b[39m(\u001b[38;5;28misinstance\u001b[39m(x, \u001b[38;5;28mslice\u001b[39m) \u001b[38;5;28;01mfor\u001b[39;00m x \u001b[38;5;129;01min\u001b[39;00m casted_key)\n\u001b[1;32m   3810\u001b[0m     ):\n\u001b[1;32m   3811\u001b[0m         \u001b[38;5;28;01mraise\u001b[39;00m InvalidIndexError(key)\n\u001b[0;32m-> 3812\u001b[0m     \u001b[38;5;28;01mraise\u001b[39;00m \u001b[38;5;167;01mKeyError\u001b[39;00m(key) \u001b[38;5;28;01mfrom\u001b[39;00m \u001b[38;5;21;01merr\u001b[39;00m\n\u001b[1;32m   3813\u001b[0m \u001b[38;5;28;01mexcept\u001b[39;00m \u001b[38;5;167;01mTypeError\u001b[39;00m:\n\u001b[1;32m   3814\u001b[0m     \u001b[38;5;66;03m# If we have a listlike key, _check_indexing_error will raise\u001b[39;00m\n\u001b[1;32m   3815\u001b[0m     \u001b[38;5;66;03m#  InvalidIndexError. Otherwise we fall through and re-raise\u001b[39;00m\n\u001b[1;32m   3816\u001b[0m     \u001b[38;5;66;03m#  the TypeError.\u001b[39;00m\n\u001b[1;32m   3817\u001b[0m     \u001b[38;5;28mself\u001b[39m\u001b[38;5;241m.\u001b[39m_check_indexing_error(key)\n",
      "\u001b[0;31mKeyError\u001b[0m: 'asean_level'"
     ]
    }
   ],
   "source": [
    "similarities = calculate_similarity(eu_role, job_role)"
   ]
  },
  {
   "cell_type": "code",
   "execution_count": 69,
   "metadata": {
    "colab": {
     "base_uri": "https://localhost:8080/"
    },
    "executionInfo": {
     "elapsed": 425,
     "status": "ok",
     "timestamp": 1721379759383,
     "user": {
      "displayName": "Phutphisit Thungklang",
      "userId": "05441536675408328624"
     },
     "user_tz": -420
    },
    "id": "FwhItw2pOoII",
    "outputId": "fd2276b1-d941-46b1-fc31-f6f927d358b2"
   },
   "outputs": [
    {
     "name": "stdout",
     "output_type": "stream",
     "text": [
      "<class 'pandas.core.frame.DataFrame'>\n",
      "RangeIndex: 4223 entries, 0 to 4222\n",
      "Data columns (total 4 columns):\n",
      " #   Column           Non-Null Count  Dtype \n",
      "---  ------           --------------  ----- \n",
      " 0   NO               4223 non-null   object\n",
      " 1   Job name         4223 non-null   object\n",
      " 2   Country          4223 non-null   object\n",
      " 3   job_description  4223 non-null   object\n",
      "dtypes: object(4)\n",
      "memory usage: 132.1+ KB\n"
     ]
    }
   ],
   "source": [
    "job_role.info()"
   ]
  },
  {
   "cell_type": "code",
   "execution_count": 70,
   "metadata": {
    "executionInfo": {
     "elapsed": 421,
     "status": "ok",
     "timestamp": 1721379837542,
     "user": {
      "displayName": "Phutphisit Thungklang",
      "userId": "05441536675408328624"
     },
     "user_tz": -420
    },
    "id": "NwYXVH9Ryd4W"
   },
   "outputs": [],
   "source": [
    "# สร้าง MultiIndex\n",
    "multi_index = pd.MultiIndex.from_arrays([job_role['NO'], job_role['Job name'], job_role['Country'], job_role['job_description']],\n",
    "                                        names=['NO', 'Job name', 'Country','job_description'])\n",
    "\n",
    "# สร้างตารางผลลัพธ์\n",
    "result_df = pd.DataFrame(\n",
    "    similarities,\n",
    "    columns=eu_role['profile_title'],\n",
    "    index=multi_index\n",
    ")\n",
    "\n",
    "# รีเซ็ต index เพื่อทำให้ 'Job name' และ 'job_description' กลายเป็นคอลัมน์\n",
    "result_df = result_df.reset_index()\n"
   ]
  },
  {
   "cell_type": "code",
   "execution_count": 71,
   "metadata": {
    "executionInfo": {
     "elapsed": 4325,
     "status": "ok",
     "timestamp": 1721379848505,
     "user": {
      "displayName": "Phutphisit Thungklang",
      "userId": "05441536675408328624"
     },
     "user_tz": -420
    },
    "id": "GnkrPB3BzDFs"
   },
   "outputs": [],
   "source": [
    "result_df.to_excel(\"role_profile_match_V2.xlsx\", index=False)"
   ]
  },
  {
   "cell_type": "code",
   "execution_count": null,
   "metadata": {
    "id": "MXAMhKUx0qHS"
   },
   "outputs": [],
   "source": []
  }
 ],
 "metadata": {
  "colab": {
   "authorship_tag": "ABX9TyP6fdqz/fxpyRi7d4o6PpRT",
   "provenance": [],
   "toc_visible": true
  },
  "kernelspec": {
   "display_name": "base",
   "language": "python",
   "name": "python3"
  },
  "language_info": {
   "codemirror_mode": {
    "name": "ipython",
    "version": 3
   },
   "file_extension": ".py",
   "mimetype": "text/x-python",
   "name": "python",
   "nbconvert_exporter": "python",
   "pygments_lexer": "ipython3",
   "version": "3.12.7"
  }
 },
 "nbformat": 4,
 "nbformat_minor": 0
}
